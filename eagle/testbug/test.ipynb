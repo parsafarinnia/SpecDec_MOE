{
 "cells": [
  {
   "cell_type": "code",
   "execution_count": 4,
   "metadata": {},
   "outputs": [
    {
     "data": {
      "text/plain": [
       "tensor([[-1]])"
      ]
     },
     "execution_count": 4,
     "metadata": {},
     "output_type": "execute_result"
    }
   ],
   "source": [
    "import torch\n",
    "a = torch.zeros(1,1,dtype=torch.long)-1\n",
    "a\n"
   ]
  },
  {
   "cell_type": "code",
   "execution_count": 16,
   "metadata": {},
   "outputs": [],
   "source": [
    "class a:\n",
    "    def __init__(self):\n",
    "        self.a = 1\n",
    "        print(\"init a\")\n",
    "\n",
    "class b(a):\n",
    "    def __init__(self):\n",
    "        super().__init__()\n",
    "        print(\"init b\")\n",
    "        self.a = 2\n",
    "        self.b = 2\n",
    "class c(b):\n",
    "    def __init__(self):\n",
    "        super().__init__()\n",
    "        print(\"init c\")\n",
    "        # self.a = 3\n",
    "        self.c = 3\n",
    "        self.b = 3"
   ]
  },
  {
   "cell_type": "code",
   "execution_count": 17,
   "metadata": {},
   "outputs": [
    {
     "name": "stdout",
     "output_type": "stream",
     "text": [
      "init a\n",
      "init a\n",
      "init b\n",
      "init a\n",
      "init b\n",
      "init c\n"
     ]
    }
   ],
   "source": [
    "a1 = a()\n",
    "b1 = b()\n",
    "c1 = c()"
   ]
  },
  {
   "cell_type": "code",
   "execution_count": 18,
   "metadata": {},
   "outputs": [
    {
     "name": "stdout",
     "output_type": "stream",
     "text": [
      "1\n",
      "2\n",
      "2\n",
      "3\n",
      "3\n",
      "2\n"
     ]
    }
   ],
   "source": [
    "print(a1.a)\n",
    "print(b1.a)\n",
    "print(b1.b)\n",
    "print(c1.b)\n",
    "print(c1.c)\n",
    "print(c1.a)\n"
   ]
  },
  {
   "cell_type": "code",
   "execution_count": null,
   "metadata": {},
   "outputs": [],
   "source": []
  }
 ],
 "metadata": {
  "kernelspec": {
   "display_name": "eagle",
   "language": "python",
   "name": "python3"
  },
  "language_info": {
   "codemirror_mode": {
    "name": "ipython",
    "version": 3
   },
   "file_extension": ".py",
   "mimetype": "text/x-python",
   "name": "python",
   "nbconvert_exporter": "python",
   "pygments_lexer": "ipython3",
   "version": "3.13.1"
  }
 },
 "nbformat": 4,
 "nbformat_minor": 2
}
