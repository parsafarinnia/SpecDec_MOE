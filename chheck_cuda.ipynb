{
 "cells": [
  {
   "cell_type": "code",
   "execution_count": null,
   "id": "25da58c6-a233-4fa8-8935-3659f840c895",
   "metadata": {},
   "outputs": [],
   "source": [
    "import torch"
   ]
  },
  {
   "cell_type": "code",
   "execution_count": null,
   "id": "712bd135-f972-4b4b-9180-c57d99ffee6f",
   "metadata": {},
   "outputs": [],
   "source": [
    "device = 'cuda'\n",
    "a = torch.ones([1000,1000]).to(device)\n",
    "b = torch.ones([1000,1000]).to(device)"
   ]
  },
  {
   "cell_type": "code",
   "execution_count": null,
   "id": "2c646090-157d-47b6-94f8-dc0cea262301",
   "metadata": {},
   "outputs": [],
   "source": []
  }
 ],
 "metadata": {
  "kernelspec": {
   "display_name": "Python 3 (ipykernel)",
   "language": "python",
   "name": "python3"
  },
  "language_info": {
   "name": ""
  }
 },
 "nbformat": 4,
 "nbformat_minor": 5
}
